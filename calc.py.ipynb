{
 "cells": [
  {
   "cell_type": "code",
   "execution_count": 0,
   "metadata": {
    "application/vnd.databricks.v1+cell": {
     "cellMetadata": {
      "byteLimit": 2048000,
      "rowLimit": 10000
     },
     "inputWidgets": {},
     "nuid": "72f163c8-493d-4303-b566-452628a26325",
     "showTitle": false,
     "title": ""
    }
   },
   "outputs": [],
   "source": [
    "from pyspark.sql import SparkSession\n",
    "from pyspark.sql.functions import udf\n",
    "from pyspark.sql.types import DoubleType\n",
    "\n",
    "# Initialize Spark session\n",
    "spark = SparkSession.builder.appName(\"Calculator\").getOrCreate()\n"
   ]
  },
  {
   "cell_type": "code",
   "execution_count": 0,
   "metadata": {
    "application/vnd.databricks.v1+cell": {
     "cellMetadata": {
      "byteLimit": 2048000,
      "rowLimit": 10000
     },
     "inputWidgets": {},
     "nuid": "ef4f8806-4826-4ae2-9507-7dc888b7ab04",
     "showTitle": false,
     "title": ""
    }
   },
   "outputs": [],
   "source": [
    "# Define the calculator functions\n",
    "def add(x, y):\n",
    "    return x + y\n",
    "\n",
    "def subtract(x, y):\n",
    "    return x - y\n",
    "\n",
    "def multiply(x, y):\n",
    "    return x * y\n",
    "\n",
    "def divide(x, y):\n",
    "    if y == 0:\n",
    "        return None  # Handle division by zero\n",
    "    return x / y\n",
    "\n",
    "# Register these functions as UDFs (User Defined Functions) in PySpark\n",
    "add_udf = udf(add, DoubleType())\n",
    "subtract_udf = udf(subtract, DoubleType())\n",
    "multiply_udf = udf(multiply, DoubleType())\n",
    "divide_udf = udf(divide, DoubleType())\n"
   ]
  },
  {
   "cell_type": "code",
   "execution_count": 0,
   "metadata": {
    "application/vnd.databricks.v1+cell": {
     "cellMetadata": {
      "byteLimit": 2048000,
      "rowLimit": 10000
     },
     "inputWidgets": {},
     "nuid": "b18db570-ea42-4c45-acb7-35a110c2dd95",
     "showTitle": false,
     "title": ""
    }
   },
   "outputs": [
    {
     "output_type": "stream",
     "name": "stdout",
     "output_type": "stream",
     "text": [
      "+---+---+\n|  x|  y|\n+---+---+\n| 10|  5|\n| 20|  0|\n| 15|  3|\n| 50| 25|\n+---+---+\n\n"
     ]
    }
   ],
   "source": [
    "# Create a sample DataFrame with two columns 'x' and 'y'\n",
    "data = [(10, 5), (20, 0), (15, 3), (50, 25)]\n",
    "columns = [\"x\", \"y\"]\n",
    "df = spark.createDataFrame(data, columns)\n",
    "\n",
    "# Show the original DataFrame\n",
    "df.show()\n"
   ]
  },
  {
   "cell_type": "code",
   "execution_count": 0,
   "metadata": {
    "application/vnd.databricks.v1+cell": {
     "cellMetadata": {
      "byteLimit": 2048000,
      "rowLimit": 10000
     },
     "inputWidgets": {},
     "nuid": "1ec5ad12-6679-4ac8-a212-bb9ddca843a2",
     "showTitle": false,
     "title": ""
    }
   },
   "outputs": [
    {
     "output_type": "stream",
     "name": "stdout",
     "output_type": "stream",
     "text": [
      "+---+---+--------+-----------+--------------+--------+\n|  x|  y|addition|subtraction|multiplication|division|\n+---+---+--------+-----------+--------------+--------+\n| 10|  5|    null|       null|          null|     2.0|\n| 20|  0|    null|       null|          null|    null|\n| 15|  3|    null|       null|          null|     5.0|\n| 50| 25|    null|       null|          null|     2.0|\n+---+---+--------+-----------+--------------+--------+\n\n"
     ]
    }
   ],
   "source": [
    "# Apply the calculator functions to the DataFrame\n",
    "# Add\n",
    "df_with_addition = df.withColumn(\"addition\", add_udf(df[\"x\"], df[\"y\"]))\n",
    "\n",
    "# Subtract\n",
    "df_with_subtraction = df_with_addition.withColumn(\"subtraction\", subtract_udf(df[\"x\"], df[\"y\"]))\n",
    "\n",
    "# Multiply\n",
    "df_with_multiplication = df_with_subtraction.withColumn(\"multiplication\", multiply_udf(df[\"x\"], df[\"y\"]))\n",
    "\n",
    "# Divide\n",
    "df_with_division = df_with_multiplication.withColumn(\"division\", divide_udf(df[\"x\"], df[\"y\"]))\n",
    "\n",
    "# Show the DataFrame with all operations\n",
    "df_with_division.show()\n"
   ]
  },
  {
   "cell_type": "code",
   "execution_count": 0,
   "metadata": {
    "application/vnd.databricks.v1+cell": {
     "cellMetadata": {
      "byteLimit": 2048000,
      "rowLimit": 10000
     },
     "inputWidgets": {},
     "nuid": "12d6eac6-2776-4fec-8706-8d1a722cfad9",
     "showTitle": false,
     "title": ""
    }
   },
   "outputs": [],
   "source": [
    "from pyspark.sql import SparkSession\n",
    "from pyspark.sql.functions import expr\n",
    "\n",
    "# Initialize Spark session\n",
    "spark = SparkSession.builder.appName(\"Calculator\").getOrCreate()\n"
   ]
  },
  {
   "cell_type": "code",
   "execution_count": 0,
   "metadata": {
    "application/vnd.databricks.v1+cell": {
     "cellMetadata": {
      "byteLimit": 2048000,
      "rowLimit": 10000
     },
     "inputWidgets": {},
     "nuid": "55a93d5b-71ad-407d-b961-f3aa06189a94",
     "showTitle": false,
     "title": ""
    }
   },
   "outputs": [],
   "source": [
    "# Create a sample DataFrame with two columns 'x' and 'y'\n",
    "data = [(10, 5), (20, 0), (15, 3), (50, 25)]\n",
    "columns = [\"x\", \"y\"]\n",
    "df = spark.createDataFrame(data, columns)\n"
   ]
  },
  {
   "cell_type": "code",
   "execution_count": 0,
   "metadata": {
    "application/vnd.databricks.v1+cell": {
     "cellMetadata": {
      "byteLimit": 2048000,
      "rowLimit": 10000
     },
     "inputWidgets": {},
     "nuid": "15790c81-e146-4743-9379-d5e4a930a3fd",
     "showTitle": false,
     "title": ""
    }
   },
   "outputs": [
    {
     "output_type": "stream",
     "name": "stdout",
     "output_type": "stream",
     "text": [
      "+---+---+--------+-----------+--------------+--------+\n|  x|  y|addition|subtraction|multiplication|division|\n+---+---+--------+-----------+--------------+--------+\n| 10|  5|      15|          5|            50|     2.0|\n| 20|  0|      20|         20|             0|    null|\n| 15|  3|      18|         12|            45|     5.0|\n| 50| 25|      75|         25|          1250|     2.0|\n+---+---+--------+-----------+--------------+--------+\n\n"
     ]
    }
   ],
   "source": [
    "# Apply the calculator functions directly using SQL expressions\n",
    "df_with_operations = df.selectExpr(\n",
    "    \"x\",\n",
    "    \"y\",\n",
    "    \"x + y as addition\",\n",
    "    \"x - y as subtraction\",\n",
    "    \"x * y as multiplication\",\n",
    "    \"CASE WHEN y = 0 THEN NULL ELSE x / y END as division\"\n",
    ")\n",
    "\n",
    "# Show the DataFrame with all operations\n",
    "df_with_operations.show()\n"
   ]
  },
  {
   "cell_type": "code",
   "execution_count": 0,
   "metadata": {
    "application/vnd.databricks.v1+cell": {
     "cellMetadata": {
      "byteLimit": 2048000,
      "rowLimit": 10000
     },
     "inputWidgets": {},
     "nuid": "bea4a45a-e853-4b1e-ae6f-d0d2c605e982",
     "showTitle": false,
     "title": ""
    }
   },
   "outputs": [
    {
     "output_type": "display_data",
     "data": {
      "application/vnd.databricks.v1+bamboolib_hint": "{\"pd.DataFrames\": [], \"version\": \"0.0.1\"}",
      "text/plain": []
     },
     "metadata": {},
     "output_type": "display_data"
    }
   ],
   "source": [
    "from pyspark.sql import SparkSession\n",
    "from pyspark.sql.functions import pandas_udf\n",
    "from pyspark.sql.types import DoubleType\n",
    "import pandas as pd\n",
    "\n",
    "# Initialize Spark session\n",
    "spark = SparkSession.builder.appName(\"Calculator\").getOrCreate()\n"
   ]
  },
  {
   "cell_type": "code",
   "execution_count": 0,
   "metadata": {
    "application/vnd.databricks.v1+cell": {
     "cellMetadata": {
      "byteLimit": 2048000,
      "rowLimit": 10000
     },
     "inputWidgets": {},
     "nuid": "490a1e2b-52eb-4c52-8700-3961aceb6452",
     "showTitle": false,
     "title": ""
    }
   },
   "outputs": [],
   "source": [
    "# Define the calculator functions\n",
    "def add(x: pd.Series, y: pd.Series) -> pd.Series:\n",
    "    return x + y\n",
    "\n",
    "def subtract(x: pd.Series, y: pd.Series) -> pd.Series:\n",
    "    return x - y\n",
    "\n",
    "def multiply(x: pd.Series, y: pd.Series) -> pd.Series:\n",
    "    return x * y\n",
    "\n",
    "def divide(x: pd.Series, y: pd.Series) -> pd.Series:\n",
    "    return x / y.where(y != 0, None)  # Handle division by zero by returning None\n"
   ]
  },
  {
   "cell_type": "code",
   "execution_count": 0,
   "metadata": {
    "application/vnd.databricks.v1+cell": {
     "cellMetadata": {
      "byteLimit": 2048000,
      "rowLimit": 10000
     },
     "inputWidgets": {},
     "nuid": "b60cc1ac-fd04-4d53-865e-70b1e16a7957",
     "showTitle": false,
     "title": ""
    }
   },
   "outputs": [],
   "source": [
    "# Register the functions as Pandas UDFs\n",
    "add_udf = pandas_udf(add, DoubleType())\n",
    "subtract_udf = pandas_udf(subtract, DoubleType())\n",
    "multiply_udf = pandas_udf(multiply, DoubleType())\n",
    "divide_udf = pandas_udf(divide, DoubleType())\n"
   ]
  },
  {
   "cell_type": "code",
   "execution_count": 0,
   "metadata": {
    "application/vnd.databricks.v1+cell": {
     "cellMetadata": {
      "byteLimit": 2048000,
      "rowLimit": 10000
     },
     "inputWidgets": {},
     "nuid": "9716c8c1-335b-4812-b5ab-302cf88bd606",
     "showTitle": false,
     "title": ""
    }
   },
   "outputs": [
    {
     "output_type": "stream",
     "name": "stdout",
     "output_type": "stream",
     "text": [
      "+---+---+\n|  x|  y|\n+---+---+\n| 10|  5|\n| 20|  0|\n| 15|  3|\n| 50| 25|\n+---+---+\n\n"
     ]
    }
   ],
   "source": [
    "# Create a sample DataFrame with two columns 'x' and 'y'\n",
    "data = [(10, 5), (20, 0), (15, 3), (50, 25)]\n",
    "columns = [\"x\", \"y\"]\n",
    "df = spark.createDataFrame(data, columns)\n",
    "\n",
    "# Show the original DataFrame\n",
    "df.show()\n"
   ]
  },
  {
   "cell_type": "code",
   "execution_count": 0,
   "metadata": {
    "application/vnd.databricks.v1+cell": {
     "cellMetadata": {
      "byteLimit": 2048000,
      "rowLimit": 10000
     },
     "inputWidgets": {},
     "nuid": "b51d43ed-2e33-42f8-8ac5-0dcd60512775",
     "showTitle": false,
     "title": ""
    }
   },
   "outputs": [
    {
     "output_type": "stream",
     "name": "stdout",
     "output_type": "stream",
     "text": [
      "+---+---+--------+-----------+--------------+--------+\n|  x|  y|addition|subtraction|multiplication|division|\n+---+---+--------+-----------+--------------+--------+\n| 10|  5|    15.0|        5.0|          50.0|     2.0|\n| 20|  0|    20.0|       20.0|           0.0|    null|\n| 15|  3|    18.0|       12.0|          45.0|     5.0|\n| 50| 25|    75.0|       25.0|        1250.0|     2.0|\n+---+---+--------+-----------+--------------+--------+\n\n"
     ]
    }
   ],
   "source": [
    "# Apply the calculator functions to the DataFrame\n",
    "df_with_addition = df.withColumn(\"addition\", add_udf(df[\"x\"], df[\"y\"]))\n",
    "df_with_subtraction = df_with_addition.withColumn(\"subtraction\", subtract_udf(df[\"x\"], df[\"y\"]))\n",
    "df_with_multiplication = df_with_subtraction.withColumn(\"multiplication\", multiply_udf(df[\"x\"], df[\"y\"]))\n",
    "df_with_division = df_with_multiplication.withColumn(\"division\", divide_udf(df[\"x\"], df[\"y\"]))\n",
    "\n",
    "# Show the DataFrame with all operations\n",
    "df_with_division.show()\n"
   ]
  }
 ],
 "metadata": {
  "application/vnd.databricks.v1+notebook": {
   "dashboards": [],
   "environmentMetadata": null,
   "language": "python",
   "notebookMetadata": {
    "pythonIndentUnit": 4
   },
   "notebookName": "calc.py",
   "widgets": {}
  }
 },
 "nbformat": 4,
 "nbformat_minor": 0
}
