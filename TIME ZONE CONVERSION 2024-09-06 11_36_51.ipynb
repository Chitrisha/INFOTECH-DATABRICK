{
 "cells": [
  {
   "cell_type": "code",
   "execution_count": 0,
   "metadata": {
    "application/vnd.databricks.v1+cell": {
     "cellMetadata": {},
     "inputWidgets": {},
     "nuid": "f86684d3-3733-455a-895d-e9f18acde72d",
     "showTitle": false,
     "title": ""
    }
   },
   "outputs": [],
   "source": [
    "/FileStore/tables/Sales_SalesOrderDetail-2.csv"
   ]
  },
  {
   "cell_type": "code",
   "execution_count": 0,
   "metadata": {
    "application/vnd.databricks.v1+cell": {
     "cellMetadata": {
      "byteLimit": 2048000,
      "rowLimit": 10000
     },
     "collapsed": true,
     "inputWidgets": {},
     "nuid": "03a9dee0-5808-4cab-9dc4-050b7d0f2c5b",
     "showTitle": false,
     "title": ""
    }
   },
   "outputs": [],
   "source": [
    "from pyspark.sql import SparkSession\n",
    "from pyspark.sql.types import StructType, StructField, IntegerType, TimestampType\n",
    "from pyspark.sql.functions import to_utc_timestamp, from_utc_timestamp\n",
    "\n",
    "# Initialize Spark session (if not already initialized)\n",
    "spark = SparkSession.builder.appName(\"TimeZoneConversion\").getOrCreate()\n",
    "\n",
    "# Define the schema\n",
    "schema = StructType([\n",
    "    StructField(\"SalesOrderID\", IntegerType(), True),\n",
    "    StructField(\"ModifiedDate\", TimestampType(), True)\n",
    "])\n",
    "\n",
    "# Load the CSV data into a DataFrame\n",
    "file_path = '/FileStore/tables/Sales_SalesOrderDetail-2.csv'\n",
    "df = spark.read.csv(file_path, header=True, schema=schema, timestampFormat=\"yyyy-MM-dd HH:mm:ss.SSS\")\n",
    "\n",
    "# Show the DataFrame to verify\n",
    "print(\"Step 1: Original DataFrame\")\n",
    "df.show(truncate=False)\n",
    "\n",
    "# Step 2a: Create a DataFrame with ModifiedDate in UTC\n",
    "df_utc = df.withColumn(\"ModifiedDate_UTC\", to_utc_timestamp(\"ModifiedDate\", \"UTC\"))\n",
    "\n",
    "# Show the DataFrame with UTC column\n",
    "print(\"Step 2a: DataFrame with UTC Column\")\n",
    "df_utc.select(\"SalesOrderID\", \"ModifiedDate\", \"ModifiedDate_UTC\").show(truncate=False)\n",
    "\n",
    "# Step 2b: Create a DataFrame with ModifiedDate in IST\n",
    "df_ist = df.withColumn(\"ModifiedDate_IST\", from_utc_timestamp(to_utc_timestamp(\"ModifiedDate\", \"UTC\"), \"Asia/Kolkata\"))\n",
    "\n",
    "# Show the DataFrame with IST column\n",
    "print(\"Step 2b: DataFrame with IST Column\")\n",
    "df_ist.select(\"SalesOrderID\", \"ModifiedDate\", \"ModifiedDate_IST\").show(truncate=False)\n"
   ]
  },
  {
   "cell_type": "code",
   "execution_count": 0,
   "metadata": {
    "application/vnd.databricks.v1+cell": {
     "cellMetadata": {
      "byteLimit": 2048000,
      "implicitDf": true,
      "rowLimit": 10000
     },
     "inputWidgets": {},
     "nuid": "a4d3f93f-89b5-4e0c-b50d-ac222fb66ce4",
     "showTitle": false,
     "title": ""
    }
   },
   "outputs": [
    {
     "output_type": "display_data",
     "data": {
      "text/html": [
       "<style scoped>\n",
       "  .table-result-container {\n",
       "    max-height: 300px;\n",
       "    overflow: auto;\n",
       "  }\n",
       "  table, th, td {\n",
       "    border: 1px solid black;\n",
       "    border-collapse: collapse;\n",
       "  }\n",
       "  th, td {\n",
       "    padding: 5px;\n",
       "  }\n",
       "  th {\n",
       "    text-align: left;\n",
       "  }\n",
       "</style><div class='table-result-container'><table class='table-result'><thead style='background-color: white'><tr><th>SalesOrderID</th><th>ModifiedDate</th></tr></thead><tbody><tr><td>1</td><td>2024-09-01 15:30:00</td></tr><tr><td>2</td><td>2024-09-02 10:00:00</td></tr><tr><td>3</td><td>2024-09-03 20:15:00</td></tr><tr><td>4</td><td>2024-09-04 05:45:00</td></tr><tr><td>5</td><td>2024-09-05 22:00:00</td></tr><tr><td>6</td><td>2024-09-06 13:30:00</td></tr><tr><td>7</td><td>2024-09-07 01:00:00</td></tr><tr><td>8</td><td>2024-09-08 08:15:00</td></tr><tr><td>9</td><td>2024-09-09 18:30:00</td></tr><tr><td>10</td><td>2024-09-10 12:00:00</td></tr></tbody></table></div>"
      ]
     },
     "metadata": {
      "application/vnd.databricks.v1+output": {
       "addedWidgets": {},
       "aggData": [],
       "aggError": "",
       "aggOverflow": false,
       "aggSchema": [],
       "aggSeriesLimitReached": false,
       "aggType": "",
       "arguments": {},
       "columnCustomDisplayInfos": {},
       "data": [
        [
         1,
         "2024-09-01 15:30:00"
        ],
        [
         2,
         "2024-09-02 10:00:00"
        ],
        [
         3,
         "2024-09-03 20:15:00"
        ],
        [
         4,
         "2024-09-04 05:45:00"
        ],
        [
         5,
         "2024-09-05 22:00:00"
        ],
        [
         6,
         "2024-09-06 13:30:00"
        ],
        [
         7,
         "2024-09-07 01:00:00"
        ],
        [
         8,
         "2024-09-08 08:15:00"
        ],
        [
         9,
         "2024-09-09 18:30:00"
        ],
        [
         10,
         "2024-09-10 12:00:00"
        ]
       ],
       "datasetInfos": [],
       "dbfsResultPath": null,
       "isJsonSchema": true,
       "metadata": {},
       "overflow": false,
       "plotOptions": {
        "customPlotOptions": {},
        "displayType": "table",
        "pivotAggregation": null,
        "pivotColumns": null,
        "xColumns": null,
        "yColumns": null
       },
       "removedWidgets": [],
       "schema": [
        {
         "metadata": "{}",
         "name": "SalesOrderID",
         "type": "\"integer\""
        },
        {
         "metadata": "{}",
         "name": "ModifiedDate",
         "type": "\"string\""
        }
       ],
       "type": "table"
      }
     },
     "output_type": "display_data"
    }
   ],
   "source": [
    "%sql\n",
    "--Step 1: Create a temporary view with sample data\n",
    "CREATE OR REPLACE TEMP VIEW sample_data AS\n",
    "SELECT\n",
    "    1 AS SalesOrderID, '2024-09-01 15:30:00' AS ModifiedDate\n",
    "UNION ALL\n",
    "SELECT\n",
    "    2 AS SalesOrderID, '2024-09-02 10:00:00' AS ModifiedDate\n",
    "UNION ALL\n",
    "SELECT\n",
    "    3 AS SalesOrderID, '2024-09-03 20:15:00' AS ModifiedDate\n",
    "UNION ALL\n",
    "SELECT\n",
    "    4 AS SalesOrderID, '2024-09-04 05:45:00' AS ModifiedDate\n",
    "UNION ALL\n",
    "SELECT\n",
    "    5 AS SalesOrderID, '2024-09-05 22:00:00' AS ModifiedDate\n",
    "UNION ALL\n",
    "SELECT\n",
    "    6 AS SalesOrderID, '2024-09-06 13:30:00' AS ModifiedDate\n",
    "UNION ALL\n",
    "SELECT\n",
    "    7 AS SalesOrderID, '2024-09-07 01:00:00' AS ModifiedDate\n",
    "UNION ALL\n",
    "SELECT\n",
    "    8 AS SalesOrderID, '2024-09-08 08:15:00' AS ModifiedDate\n",
    "UNION ALL\n",
    "SELECT\n",
    "    9 AS SalesOrderID, '2024-09-09 18:30:00' AS ModifiedDate\n",
    "UNION ALL\n",
    "SELECT\n",
    "    10 AS SalesOrderID, '2024-09-10 12:00:00' AS ModifiedDate;\n",
    "\n",
    "-- Verify the data\n",
    "SELECT * FROM sample_data;\n"
   ]
  },
  {
   "cell_type": "code",
   "execution_count": 0,
   "metadata": {
    "application/vnd.databricks.v1+cell": {
     "cellMetadata": {
      "byteLimit": 2048000,
      "implicitDf": true,
      "rowLimit": 10000
     },
     "inputWidgets": {},
     "nuid": "9def090d-d7d6-4a13-a8a4-dd41d437a737",
     "showTitle": false,
     "title": ""
    }
   },
   "outputs": [
    {
     "output_type": "display_data",
     "data": {
      "text/html": [
       "<style scoped>\n",
       "  .table-result-container {\n",
       "    max-height: 300px;\n",
       "    overflow: auto;\n",
       "  }\n",
       "  table, th, td {\n",
       "    border: 1px solid black;\n",
       "    border-collapse: collapse;\n",
       "  }\n",
       "  th, td {\n",
       "    padding: 5px;\n",
       "  }\n",
       "  th {\n",
       "    text-align: left;\n",
       "  }\n",
       "</style><div class='table-result-container'><table class='table-result'><thead style='background-color: white'><tr><th>SalesOrderID</th><th>ModifiedDate</th><th>ModifiedDate_UTC</th></tr></thead><tbody><tr><td>1</td><td>2024-09-01 15:30:00</td><td>2024-09-01T15:30:00.000+0000</td></tr><tr><td>2</td><td>2024-09-02 10:00:00</td><td>2024-09-02T10:00:00.000+0000</td></tr><tr><td>3</td><td>2024-09-03 20:15:00</td><td>2024-09-03T20:15:00.000+0000</td></tr><tr><td>4</td><td>2024-09-04 05:45:00</td><td>2024-09-04T05:45:00.000+0000</td></tr><tr><td>5</td><td>2024-09-05 22:00:00</td><td>2024-09-05T22:00:00.000+0000</td></tr><tr><td>6</td><td>2024-09-06 13:30:00</td><td>2024-09-06T13:30:00.000+0000</td></tr><tr><td>7</td><td>2024-09-07 01:00:00</td><td>2024-09-07T01:00:00.000+0000</td></tr><tr><td>8</td><td>2024-09-08 08:15:00</td><td>2024-09-08T08:15:00.000+0000</td></tr><tr><td>9</td><td>2024-09-09 18:30:00</td><td>2024-09-09T18:30:00.000+0000</td></tr><tr><td>10</td><td>2024-09-10 12:00:00</td><td>2024-09-10T12:00:00.000+0000</td></tr></tbody></table></div>"
      ]
     },
     "metadata": {
      "application/vnd.databricks.v1+output": {
       "addedWidgets": {},
       "aggData": [],
       "aggError": "",
       "aggOverflow": false,
       "aggSchema": [],
       "aggSeriesLimitReached": false,
       "aggType": "",
       "arguments": {},
       "columnCustomDisplayInfos": {},
       "data": [
        [
         1,
         "2024-09-01 15:30:00",
         "2024-09-01T15:30:00.000+0000"
        ],
        [
         2,
         "2024-09-02 10:00:00",
         "2024-09-02T10:00:00.000+0000"
        ],
        [
         3,
         "2024-09-03 20:15:00",
         "2024-09-03T20:15:00.000+0000"
        ],
        [
         4,
         "2024-09-04 05:45:00",
         "2024-09-04T05:45:00.000+0000"
        ],
        [
         5,
         "2024-09-05 22:00:00",
         "2024-09-05T22:00:00.000+0000"
        ],
        [
         6,
         "2024-09-06 13:30:00",
         "2024-09-06T13:30:00.000+0000"
        ],
        [
         7,
         "2024-09-07 01:00:00",
         "2024-09-07T01:00:00.000+0000"
        ],
        [
         8,
         "2024-09-08 08:15:00",
         "2024-09-08T08:15:00.000+0000"
        ],
        [
         9,
         "2024-09-09 18:30:00",
         "2024-09-09T18:30:00.000+0000"
        ],
        [
         10,
         "2024-09-10 12:00:00",
         "2024-09-10T12:00:00.000+0000"
        ]
       ],
       "datasetInfos": [],
       "dbfsResultPath": null,
       "isJsonSchema": true,
       "metadata": {},
       "overflow": false,
       "plotOptions": {
        "customPlotOptions": {},
        "displayType": "table",
        "pivotAggregation": null,
        "pivotColumns": null,
        "xColumns": null,
        "yColumns": null
       },
       "removedWidgets": [],
       "schema": [
        {
         "metadata": "{}",
         "name": "SalesOrderID",
         "type": "\"integer\""
        },
        {
         "metadata": "{}",
         "name": "ModifiedDate",
         "type": "\"string\""
        },
        {
         "metadata": "{}",
         "name": "ModifiedDate_UTC",
         "type": "\"timestamp\""
        }
       ],
       "type": "table"
      }
     },
     "output_type": "display_data"
    }
   ],
   "source": [
    "%sql\n",
    "-- Step 2a: Create a view with ModifiedDate in UTC\n",
    "CREATE OR REPLACE TEMP VIEW sample_data_utc AS\n",
    "SELECT \n",
    "    SalesOrderID,\n",
    "    ModifiedDate,\n",
    "    -- Convert ModifiedDate to UTC\n",
    "    to_utc_timestamp(ModifiedDate, 'UTC') AS ModifiedDate_UTC\n",
    "FROM sample_data;\n",
    "\n",
    "-- Verify the UTC column\n",
    "SELECT SalesOrderID, ModifiedDate, ModifiedDate_UTC\n",
    "FROM sample_data_utc;\n"
   ]
  },
  {
   "cell_type": "code",
   "execution_count": 0,
   "metadata": {
    "application/vnd.databricks.v1+cell": {
     "cellMetadata": {
      "byteLimit": 2048000,
      "implicitDf": true,
      "rowLimit": 10000
     },
     "inputWidgets": {},
     "nuid": "5cb18b06-7be2-4df1-91d3-749d1812332a",
     "showTitle": false,
     "title": ""
    }
   },
   "outputs": [
    {
     "output_type": "display_data",
     "data": {
      "text/html": [
       "<style scoped>\n",
       "  .table-result-container {\n",
       "    max-height: 300px;\n",
       "    overflow: auto;\n",
       "  }\n",
       "  table, th, td {\n",
       "    border: 1px solid black;\n",
       "    border-collapse: collapse;\n",
       "  }\n",
       "  th, td {\n",
       "    padding: 5px;\n",
       "  }\n",
       "  th {\n",
       "    text-align: left;\n",
       "  }\n",
       "</style><div class='table-result-container'><table class='table-result'><thead style='background-color: white'><tr><th>SalesOrderID</th><th>ModifiedDate</th><th>ModifiedDate_IST</th></tr></thead><tbody><tr><td>1</td><td>2024-09-01 15:30:00</td><td>2024-09-01T21:00:00.000+0000</td></tr><tr><td>2</td><td>2024-09-02 10:00:00</td><td>2024-09-02T15:30:00.000+0000</td></tr><tr><td>3</td><td>2024-09-03 20:15:00</td><td>2024-09-04T01:45:00.000+0000</td></tr><tr><td>4</td><td>2024-09-04 05:45:00</td><td>2024-09-04T11:15:00.000+0000</td></tr><tr><td>5</td><td>2024-09-05 22:00:00</td><td>2024-09-06T03:30:00.000+0000</td></tr><tr><td>6</td><td>2024-09-06 13:30:00</td><td>2024-09-06T19:00:00.000+0000</td></tr><tr><td>7</td><td>2024-09-07 01:00:00</td><td>2024-09-07T06:30:00.000+0000</td></tr><tr><td>8</td><td>2024-09-08 08:15:00</td><td>2024-09-08T13:45:00.000+0000</td></tr><tr><td>9</td><td>2024-09-09 18:30:00</td><td>2024-09-10T00:00:00.000+0000</td></tr><tr><td>10</td><td>2024-09-10 12:00:00</td><td>2024-09-10T17:30:00.000+0000</td></tr></tbody></table></div>"
      ]
     },
     "metadata": {
      "application/vnd.databricks.v1+output": {
       "addedWidgets": {},
       "aggData": [],
       "aggError": "",
       "aggOverflow": false,
       "aggSchema": [],
       "aggSeriesLimitReached": false,
       "aggType": "",
       "arguments": {},
       "columnCustomDisplayInfos": {},
       "data": [
        [
         1,
         "2024-09-01 15:30:00",
         "2024-09-01T21:00:00.000+0000"
        ],
        [
         2,
         "2024-09-02 10:00:00",
         "2024-09-02T15:30:00.000+0000"
        ],
        [
         3,
         "2024-09-03 20:15:00",
         "2024-09-04T01:45:00.000+0000"
        ],
        [
         4,
         "2024-09-04 05:45:00",
         "2024-09-04T11:15:00.000+0000"
        ],
        [
         5,
         "2024-09-05 22:00:00",
         "2024-09-06T03:30:00.000+0000"
        ],
        [
         6,
         "2024-09-06 13:30:00",
         "2024-09-06T19:00:00.000+0000"
        ],
        [
         7,
         "2024-09-07 01:00:00",
         "2024-09-07T06:30:00.000+0000"
        ],
        [
         8,
         "2024-09-08 08:15:00",
         "2024-09-08T13:45:00.000+0000"
        ],
        [
         9,
         "2024-09-09 18:30:00",
         "2024-09-10T00:00:00.000+0000"
        ],
        [
         10,
         "2024-09-10 12:00:00",
         "2024-09-10T17:30:00.000+0000"
        ]
       ],
       "datasetInfos": [],
       "dbfsResultPath": null,
       "isJsonSchema": true,
       "metadata": {},
       "overflow": false,
       "plotOptions": {
        "customPlotOptions": {},
        "displayType": "table",
        "pivotAggregation": null,
        "pivotColumns": null,
        "xColumns": null,
        "yColumns": null
       },
       "removedWidgets": [],
       "schema": [
        {
         "metadata": "{}",
         "name": "SalesOrderID",
         "type": "\"integer\""
        },
        {
         "metadata": "{}",
         "name": "ModifiedDate",
         "type": "\"string\""
        },
        {
         "metadata": "{}",
         "name": "ModifiedDate_IST",
         "type": "\"timestamp\""
        }
       ],
       "type": "table"
      }
     },
     "output_type": "display_data"
    }
   ],
   "source": [
    "%sql\n",
    "-- Step 2b: Create a view with ModifiedDate in IST\n",
    "CREATE OR REPLACE TEMP VIEW sample_data_ist AS\n",
    "SELECT \n",
    "    SalesOrderID,\n",
    "    ModifiedDate,\n",
    "    -- Convert ModifiedDate to IST\n",
    "    from_utc_timestamp(to_utc_timestamp(ModifiedDate, 'UTC'), 'Asia/Kolkata') AS ModifiedDate_IST\n",
    "FROM sample_data;\n",
    "\n",
    "-- Verify the IST column\n",
    "SELECT SalesOrderID, ModifiedDate, ModifiedDate_IST\n",
    "FROM sample_data_ist;\n"
   ]
  },
  {
   "cell_type": "code",
   "execution_count": 0,
   "metadata": {
    "application/vnd.databricks.v1+cell": {
     "cellMetadata": {
      "byteLimit": 2048000,
      "implicitDf": true,
      "rowLimit": 10000
     },
     "inputWidgets": {},
     "nuid": "89b93198-f98e-466a-bd55-ad611ec6a09f",
     "showTitle": false,
     "title": ""
    }
   },
   "outputs": [
    {
     "output_type": "display_data",
     "data": {
      "text/html": [
       "<style scoped>\n",
       "  .table-result-container {\n",
       "    max-height: 300px;\n",
       "    overflow: auto;\n",
       "  }\n",
       "  table, th, td {\n",
       "    border: 1px solid black;\n",
       "    border-collapse: collapse;\n",
       "  }\n",
       "  th, td {\n",
       "    padding: 5px;\n",
       "  }\n",
       "  th {\n",
       "    text-align: left;\n",
       "  }\n",
       "</style><div class='table-result-container'><table class='table-result'><thead style='background-color: white'><tr><th>SalesOrderID</th><th>OriginalDate</th><th>ModifiedDate_UTC</th><th>ModifiedDate_IST</th></tr></thead><tbody><tr><td>1</td><td>2024-09-01 15:30:00</td><td>2024-09-01T15:30:00.000+0000</td><td>2024-09-01T21:00:00.000+0000</td></tr><tr><td>2</td><td>2024-09-02 10:00:00</td><td>2024-09-02T10:00:00.000+0000</td><td>2024-09-02T15:30:00.000+0000</td></tr><tr><td>3</td><td>2024-09-03 20:15:00</td><td>2024-09-03T20:15:00.000+0000</td><td>2024-09-04T01:45:00.000+0000</td></tr><tr><td>4</td><td>2024-09-04 05:45:00</td><td>2024-09-04T05:45:00.000+0000</td><td>2024-09-04T11:15:00.000+0000</td></tr><tr><td>5</td><td>2024-09-05 22:00:00</td><td>2024-09-05T22:00:00.000+0000</td><td>2024-09-06T03:30:00.000+0000</td></tr><tr><td>6</td><td>2024-09-06 13:30:00</td><td>2024-09-06T13:30:00.000+0000</td><td>2024-09-06T19:00:00.000+0000</td></tr><tr><td>7</td><td>2024-09-07 01:00:00</td><td>2024-09-07T01:00:00.000+0000</td><td>2024-09-07T06:30:00.000+0000</td></tr><tr><td>8</td><td>2024-09-08 08:15:00</td><td>2024-09-08T08:15:00.000+0000</td><td>2024-09-08T13:45:00.000+0000</td></tr><tr><td>9</td><td>2024-09-09 18:30:00</td><td>2024-09-09T18:30:00.000+0000</td><td>2024-09-10T00:00:00.000+0000</td></tr><tr><td>10</td><td>2024-09-10 12:00:00</td><td>2024-09-10T12:00:00.000+0000</td><td>2024-09-10T17:30:00.000+0000</td></tr></tbody></table></div>"
      ]
     },
     "metadata": {
      "application/vnd.databricks.v1+output": {
       "addedWidgets": {},
       "aggData": [],
       "aggError": "",
       "aggOverflow": false,
       "aggSchema": [],
       "aggSeriesLimitReached": false,
       "aggType": "",
       "arguments": {},
       "columnCustomDisplayInfos": {},
       "data": [
        [
         1,
         "2024-09-01 15:30:00",
         "2024-09-01T15:30:00.000+0000",
         "2024-09-01T21:00:00.000+0000"
        ],
        [
         2,
         "2024-09-02 10:00:00",
         "2024-09-02T10:00:00.000+0000",
         "2024-09-02T15:30:00.000+0000"
        ],
        [
         3,
         "2024-09-03 20:15:00",
         "2024-09-03T20:15:00.000+0000",
         "2024-09-04T01:45:00.000+0000"
        ],
        [
         4,
         "2024-09-04 05:45:00",
         "2024-09-04T05:45:00.000+0000",
         "2024-09-04T11:15:00.000+0000"
        ],
        [
         5,
         "2024-09-05 22:00:00",
         "2024-09-05T22:00:00.000+0000",
         "2024-09-06T03:30:00.000+0000"
        ],
        [
         6,
         "2024-09-06 13:30:00",
         "2024-09-06T13:30:00.000+0000",
         "2024-09-06T19:00:00.000+0000"
        ],
        [
         7,
         "2024-09-07 01:00:00",
         "2024-09-07T01:00:00.000+0000",
         "2024-09-07T06:30:00.000+0000"
        ],
        [
         8,
         "2024-09-08 08:15:00",
         "2024-09-08T08:15:00.000+0000",
         "2024-09-08T13:45:00.000+0000"
        ],
        [
         9,
         "2024-09-09 18:30:00",
         "2024-09-09T18:30:00.000+0000",
         "2024-09-10T00:00:00.000+0000"
        ],
        [
         10,
         "2024-09-10 12:00:00",
         "2024-09-10T12:00:00.000+0000",
         "2024-09-10T17:30:00.000+0000"
        ]
       ],
       "datasetInfos": [],
       "dbfsResultPath": null,
       "isJsonSchema": true,
       "metadata": {},
       "overflow": false,
       "plotOptions": {
        "customPlotOptions": {},
        "displayType": "table",
        "pivotAggregation": null,
        "pivotColumns": null,
        "xColumns": null,
        "yColumns": null
       },
       "removedWidgets": [],
       "schema": [
        {
         "metadata": "{}",
         "name": "SalesOrderID",
         "type": "\"integer\""
        },
        {
         "metadata": "{}",
         "name": "OriginalDate",
         "type": "\"string\""
        },
        {
         "metadata": "{}",
         "name": "ModifiedDate_UTC",
         "type": "\"timestamp\""
        },
        {
         "metadata": "{}",
         "name": "ModifiedDate_IST",
         "type": "\"timestamp\""
        }
       ],
       "type": "table"
      }
     },
     "output_type": "display_data"
    }
   ],
   "source": [
    "%sql\n",
    "-- Select statement to view ModifiedDate, UTC, and IST together\n",
    "SELECT\n",
    "    SalesOrderID,\n",
    "    ModifiedDate AS OriginalDate,\n",
    "    to_utc_timestamp(ModifiedDate, 'UTC') AS ModifiedDate_UTC,\n",
    "    from_utc_timestamp(to_utc_timestamp(ModifiedDate, 'UTC'), 'Asia/Kolkata') AS ModifiedDate_IST\n",
    "FROM sample_data;\n"
   ]
  },
  {
   "cell_type": "code",
   "execution_count": 0,
   "metadata": {
    "application/vnd.databricks.v1+cell": {
     "cellMetadata": {
      "byteLimit": 2048000,
      "rowLimit": 10000
     },
     "inputWidgets": {},
     "nuid": "e4a832a1-967f-491f-ba85-9ef9a33c0a3c",
     "showTitle": false,
     "title": ""
    }
   },
   "outputs": [
    {
     "output_type": "stream",
     "name": "stdout",
     "output_type": "stream",
     "text": [
      "+------------+------------------+---------------------+--------+---------+--------------+---------+-----------------+---------+--------------------+------------+\n|SalesOrderID|SalesOrderDetailID|CarrierTrackingNumber|OrderQty|ProductID|SpecialOfferID|UnitPrice|UnitPriceDiscount|LineTotal|             rowguid|ModifiedDate|\n+------------+------------------+---------------------+--------+---------+--------------+---------+-----------------+---------+--------------------+------------+\n|       43659|                 1|         4911-403C-98|       1|      776|             1|  2024.99|             0.00|  2024.99|B207C96D-D9E6-402...|  2011-05-31|\n|       43659|                 2|         4911-403C-98|       3|      777|             1|  2024.99|             0.00|  6074.98|7ABB600D-1E77-41B...|  2011-05-31|\n|       43659|                 3|         4911-403C-98|       1|      778|             1|  2024.99|             0.00|  2024.99|475CF8C6-49F6-486...|  2011-05-31|\n|       43659|                 4|         4911-403C-98|       1|      771|             1|  2039.99|             0.00|  2039.99|04C4DE91-5815-45D...|  2011-05-31|\n|       43659|                 5|         4911-403C-98|       1|      772|             1|  2039.99|             0.00|  2039.99|5A74C7D2-E641-438...|  2011-05-31|\n|       43659|                 6|         4911-403C-98|       2|      773|             1|  2039.99|             0.00|  4079.99|CE472532-A4C0-45B...|  2011-05-31|\n|       43659|                 7|         4911-403C-98|       1|      774|             1|  2039.99|             0.00|  2039.99|80667840-F962-4EE...|  2011-05-31|\n|       43659|                 8|         4911-403C-98|       3|      714|             1|    28.84|             0.00|    86.52|E9D54907-E7B7-496...|  2011-05-31|\n|       43659|                 9|         4911-403C-98|       1|      716|             1|    28.84|             0.00|    28.84|AA542630-BDCD-4CE...|  2011-05-31|\n|       43659|                10|         4911-403C-98|       6|      709|             1|     5.70|             0.00|    34.20|AC769034-3C2F-495...|  2011-05-31|\n|       43659|                11|         4911-403C-98|       2|      712|             1|     5.19|             0.00|    10.37|06A66921-6B9F-419...|  2011-05-31|\n|       43659|                12|         4911-403C-98|       4|      711|             1|    20.19|             0.00|    80.75|0E371EE3-253E-4BB...|  2011-05-31|\n|       43660|                13|         6431-4D57-83|       1|      762|             1|   419.46|             0.00|   419.46|419A1302-AC7A-404...|  2011-05-31|\n|       43660|                14|         6431-4D57-83|       1|      758|             1|   874.79|             0.00|   874.79|5D0B2B03-1D4C-4C3...|  2011-05-31|\n|       43661|                15|         4E0A-4F89-AE|       1|      745|             1|   809.76|             0.00|   809.76|EDE1759E-6733-4C7...|  2011-05-31|\n|       43661|                16|         4E0A-4F89-AE|       1|      743|             1|   714.70|             0.00|   714.70|FE10BF09-D477-485...|  2011-05-31|\n|       43661|                17|         4E0A-4F89-AE|       2|      747|             1|   714.70|             0.00|  1429.41|B136852E-24C9-400...|  2011-05-31|\n|       43661|                18|         4E0A-4F89-AE|       4|      712|             1|     5.19|             0.00|    20.75|F0F410B6-BC93-4D7...|  2011-05-31|\n|       43661|                19|         4E0A-4F89-AE|       4|      715|             1|    28.84|             0.00|   115.36|AE4CDA7D-9B6E-4AB...|  2011-05-31|\n|       43661|                20|         4E0A-4F89-AE|       2|      742|             1|   722.59|             0.00|  1445.19|054A9D3B-A178-465...|  2011-05-31|\n+------------+------------------+---------------------+--------+---------+--------------+---------+-----------------+---------+--------------------+------------+\nonly showing top 20 rows\n\n+------------+-------------------+-------------------+\n|ModifiedDate|IST                |UTC                |\n+------------+-------------------+-------------------+\n|2011-05-31  |2011-05-31 05:30:00|2011-05-31 00:00:00|\n|2011-05-31  |2011-05-31 05:30:00|2011-05-31 00:00:00|\n|2011-05-31  |2011-05-31 05:30:00|2011-05-31 00:00:00|\n|2011-05-31  |2011-05-31 05:30:00|2011-05-31 00:00:00|\n|2011-05-31  |2011-05-31 05:30:00|2011-05-31 00:00:00|\n|2011-05-31  |2011-05-31 05:30:00|2011-05-31 00:00:00|\n|2011-05-31  |2011-05-31 05:30:00|2011-05-31 00:00:00|\n|2011-05-31  |2011-05-31 05:30:00|2011-05-31 00:00:00|\n|2011-05-31  |2011-05-31 05:30:00|2011-05-31 00:00:00|\n|2011-05-31  |2011-05-31 05:30:00|2011-05-31 00:00:00|\n|2011-05-31  |2011-05-31 05:30:00|2011-05-31 00:00:00|\n|2011-05-31  |2011-05-31 05:30:00|2011-05-31 00:00:00|\n|2011-05-31  |2011-05-31 05:30:00|2011-05-31 00:00:00|\n|2011-05-31  |2011-05-31 05:30:00|2011-05-31 00:00:00|\n|2011-05-31  |2011-05-31 05:30:00|2011-05-31 00:00:00|\n|2011-05-31  |2011-05-31 05:30:00|2011-05-31 00:00:00|\n|2011-05-31  |2011-05-31 05:30:00|2011-05-31 00:00:00|\n|2011-05-31  |2011-05-31 05:30:00|2011-05-31 00:00:00|\n|2011-05-31  |2011-05-31 05:30:00|2011-05-31 00:00:00|\n|2011-05-31  |2011-05-31 05:30:00|2011-05-31 00:00:00|\n+------------+-------------------+-------------------+\nonly showing top 20 rows\n\n"
     ]
    }
   ],
   "source": [
    "from pyspark.sql.types import StructType, StructField, StringType, IntegerType, DecimalType, DateType\n",
    "\n",
    "# Define the schema\n",
    "schema = StructType([\n",
    "    StructField(\"SalesOrderID\", IntegerType(), True),\n",
    "    StructField(\"SalesOrderDetailID\", IntegerType(), True),\n",
    "    StructField(\"CarrierTrackingNumber\", StringType(), True),\n",
    "    StructField(\"OrderQty\", IntegerType(), True),\n",
    "    StructField(\"ProductID\", IntegerType(), True),\n",
    "    StructField(\"SpecialOfferID\", IntegerType(), True),\n",
    "    StructField(\"UnitPrice\", DecimalType(10, 2), True),\n",
    "    StructField(\"UnitPriceDiscount\", DecimalType(10, 2), True),\n",
    "    StructField(\"LineTotal\", DecimalType(20, 2), True),\n",
    "    StructField(\"rowguid\", StringType(), True),\n",
    "    StructField(\"ModifiedDate\", DateType(), True)\n",
    "])\n",
    "\n",
    "# Load the data with the schema\n",
    "df = spark.read.csv(\"/FileStore/tables/Sales_SalesOrderDetail-2.csv\", schema=schema, header=False)\n",
    "\n",
    "# Show the DataFrame\n",
    "df.show()\n",
    "\n",
    "from pyspark.sql.functions import from_utc_timestamp, to_utc_timestamp\n",
    "\n",
    "# Load the data with the schema\n",
    "df = spark.read.csv(\"/FileStore/tables/Sales_SalesOrderDetail-2.csv\", schema=schema, header=False)\n",
    "\n",
    "# Add two extra columns for IST and UTC timestamps\n",
    "df_with_timezones = df.withColumn(\n",
    "    \"IST\", from_utc_timestamp(\"ModifiedDate\", \"Asia/Kolkata\")\n",
    ").withColumn(\n",
    "    \"UTC\", to_utc_timestamp(\"ModifiedDate\", \"UTC\")\n",
    ")\n",
    "\n",
    "# Show the DataFrame with the new columns for IST and UTC\n",
    "df_with_timezones.select(\"ModifiedDate\", \"IST\", \"UTC\").show(truncate=False)"
   ]
  },
  {
   "cell_type": "code",
   "execution_count": 0,
   "metadata": {
    "application/vnd.databricks.v1+cell": {
     "cellMetadata": {
      "byteLimit": 2048000,
      "implicitDf": true,
      "rowLimit": 10000
     },
     "inputWidgets": {},
     "nuid": "5bf31b93-2662-4906-93bd-fe9c8f754025",
     "showTitle": false,
     "title": ""
    }
   },
   "outputs": [
    {
     "output_type": "display_data",
     "data": {
      "text/html": [
       "<style scoped>\n",
       "  .table-result-container {\n",
       "    max-height: 300px;\n",
       "    overflow: auto;\n",
       "  }\n",
       "  table, th, td {\n",
       "    border: 1px solid black;\n",
       "    border-collapse: collapse;\n",
       "  }\n",
       "  th, td {\n",
       "    padding: 5px;\n",
       "  }\n",
       "  th {\n",
       "    text-align: left;\n",
       "  }\n",
       "</style><div class='table-result-container'><table class='table-result'><thead style='background-color: white'><tr><th>SalesOrderID</th><th>OriginalDate</th><th>ModifiedDate_UTC</th><th>ModifiedDate_IST</th></tr></thead><tbody><tr><td>1</td><td>2024-09-01 15:30:00</td><td>2024-09-01T15:30:00.000+0000</td><td>2024-09-01T21:00:00.000+0000</td></tr><tr><td>2</td><td>2024-09-02 10:00:00</td><td>2024-09-02T10:00:00.000+0000</td><td>2024-09-02T15:30:00.000+0000</td></tr><tr><td>3</td><td>2024-09-03 20:15:00</td><td>2024-09-03T20:15:00.000+0000</td><td>2024-09-04T01:45:00.000+0000</td></tr><tr><td>4</td><td>2024-09-04 05:45:00</td><td>2024-09-04T05:45:00.000+0000</td><td>2024-09-04T11:15:00.000+0000</td></tr><tr><td>5</td><td>2024-09-05 22:00:00</td><td>2024-09-05T22:00:00.000+0000</td><td>2024-09-06T03:30:00.000+0000</td></tr><tr><td>6</td><td>2024-09-06 13:30:00</td><td>2024-09-06T13:30:00.000+0000</td><td>2024-09-06T19:00:00.000+0000</td></tr><tr><td>7</td><td>2024-09-07 01:00:00</td><td>2024-09-07T01:00:00.000+0000</td><td>2024-09-07T06:30:00.000+0000</td></tr><tr><td>8</td><td>2024-09-08 08:15:00</td><td>2024-09-08T08:15:00.000+0000</td><td>2024-09-08T13:45:00.000+0000</td></tr><tr><td>9</td><td>2024-09-09 18:30:00</td><td>2024-09-09T18:30:00.000+0000</td><td>2024-09-10T00:00:00.000+0000</td></tr><tr><td>10</td><td>2024-09-10 12:00:00</td><td>2024-09-10T12:00:00.000+0000</td><td>2024-09-10T17:30:00.000+0000</td></tr></tbody></table></div>"
      ]
     },
     "metadata": {
      "application/vnd.databricks.v1+output": {
       "addedWidgets": {},
       "aggData": [],
       "aggError": "",
       "aggOverflow": false,
       "aggSchema": [],
       "aggSeriesLimitReached": false,
       "aggType": "",
       "arguments": {},
       "columnCustomDisplayInfos": {},
       "data": [
        [
         1,
         "2024-09-01 15:30:00",
         "2024-09-01T15:30:00.000+0000",
         "2024-09-01T21:00:00.000+0000"
        ],
        [
         2,
         "2024-09-02 10:00:00",
         "2024-09-02T10:00:00.000+0000",
         "2024-09-02T15:30:00.000+0000"
        ],
        [
         3,
         "2024-09-03 20:15:00",
         "2024-09-03T20:15:00.000+0000",
         "2024-09-04T01:45:00.000+0000"
        ],
        [
         4,
         "2024-09-04 05:45:00",
         "2024-09-04T05:45:00.000+0000",
         "2024-09-04T11:15:00.000+0000"
        ],
        [
         5,
         "2024-09-05 22:00:00",
         "2024-09-05T22:00:00.000+0000",
         "2024-09-06T03:30:00.000+0000"
        ],
        [
         6,
         "2024-09-06 13:30:00",
         "2024-09-06T13:30:00.000+0000",
         "2024-09-06T19:00:00.000+0000"
        ],
        [
         7,
         "2024-09-07 01:00:00",
         "2024-09-07T01:00:00.000+0000",
         "2024-09-07T06:30:00.000+0000"
        ],
        [
         8,
         "2024-09-08 08:15:00",
         "2024-09-08T08:15:00.000+0000",
         "2024-09-08T13:45:00.000+0000"
        ],
        [
         9,
         "2024-09-09 18:30:00",
         "2024-09-09T18:30:00.000+0000",
         "2024-09-10T00:00:00.000+0000"
        ],
        [
         10,
         "2024-09-10 12:00:00",
         "2024-09-10T12:00:00.000+0000",
         "2024-09-10T17:30:00.000+0000"
        ]
       ],
       "datasetInfos": [],
       "dbfsResultPath": null,
       "isJsonSchema": true,
       "metadata": {},
       "overflow": false,
       "plotOptions": {
        "customPlotOptions": {},
        "displayType": "table",
        "pivotAggregation": null,
        "pivotColumns": null,
        "xColumns": null,
        "yColumns": null
       },
       "removedWidgets": [],
       "schema": [
        {
         "metadata": "{}",
         "name": "SalesOrderID",
         "type": "\"integer\""
        },
        {
         "metadata": "{}",
         "name": "OriginalDate",
         "type": "\"string\""
        },
        {
         "metadata": "{}",
         "name": "ModifiedDate_UTC",
         "type": "\"timestamp\""
        },
        {
         "metadata": "{}",
         "name": "ModifiedDate_IST",
         "type": "\"timestamp\""
        }
       ],
       "type": "table"
      }
     },
     "output_type": "display_data"
    }
   ],
   "source": [
    "%sql\n",
    "--Step 1: Create a temporary view with sample data\n",
    "CREATE OR REPLACE TEMP VIEW sample_data AS\n",
    "SELECT\n",
    "    1 AS SalesOrderID, '2024-09-01 15:30:00' AS ModifiedDate\n",
    "UNION ALL\n",
    "SELECT\n",
    "    2 AS SalesOrderID, '2024-09-02 10:00:00' AS ModifiedDate\n",
    "UNION ALL\n",
    "SELECT\n",
    "    3 AS SalesOrderID, '2024-09-03 20:15:00' AS ModifiedDate\n",
    "UNION ALL\n",
    "SELECT\n",
    "    4 AS SalesOrderID, '2024-09-04 05:45:00' AS ModifiedDate\n",
    "UNION ALL\n",
    "SELECT\n",
    "    5 AS SalesOrderID, '2024-09-05 22:00:00' AS ModifiedDate\n",
    "UNION ALL\n",
    "SELECT\n",
    "    6 AS SalesOrderID, '2024-09-06 13:30:00' AS ModifiedDate\n",
    "UNION ALL\n",
    "SELECT\n",
    "    7 AS SalesOrderID, '2024-09-07 01:00:00' AS ModifiedDate\n",
    "UNION ALL\n",
    "SELECT\n",
    "    8 AS SalesOrderID, '2024-09-08 08:15:00' AS ModifiedDate\n",
    "UNION ALL\n",
    "SELECT\n",
    "    9 AS SalesOrderID, '2024-09-09 18:30:00' AS ModifiedDate\n",
    "UNION ALL\n",
    "SELECT\n",
    "    10 AS SalesOrderID, '2024-09-10 12:00:00' AS ModifiedDate;\n",
    "\n",
    "\n",
    "\n",
    "\n",
    "\n",
    "CREATE OR REPLACE TEMP VIEW sample_data_utc AS\n",
    "SELECT \n",
    "    SalesOrderID,\n",
    "    ModifiedDate,\n",
    "    -- Convert ModifiedDate to UTC\n",
    "    to_utc_timestamp(ModifiedDate, 'UTC') AS ModifiedDate_UTC\n",
    "FROM sample_data;\n",
    "\n",
    "CREATE OR REPLACE TEMP VIEW sample_data_ist AS\n",
    "SELECT \n",
    "    SalesOrderID,\n",
    "    ModifiedDate,\n",
    "    -- Convert ModifiedDate to IST\n",
    "    from_utc_timestamp(to_utc_timestamp(ModifiedDate, 'UTC'), 'Asia/Kolkata') AS ModifiedDate_IST\n",
    "FROM sample_data;\n",
    "\n",
    "SELECT\n",
    "    SalesOrderID,\n",
    "    ModifiedDate AS OriginalDate,\n",
    "    to_utc_timestamp(ModifiedDate, 'UTC') AS ModifiedDate_UTC,\n",
    "    from_utc_timestamp(to_utc_timestamp(ModifiedDate, 'UTC'), 'Asia/Kolkata') AS ModifiedDate_IST\n",
    "FROM sample_data;"
   ]
  }
 ],
 "metadata": {
  "application/vnd.databricks.v1+notebook": {
   "dashboards": [],
   "environmentMetadata": null,
   "language": "python",
   "notebookMetadata": {
    "mostRecentlyExecutedCommandWithImplicitDF": {
     "commandId": 3362224213768994,
     "dataframes": [
      "_sqldf"
     ]
    },
    "pythonIndentUnit": 4
   },
   "notebookName": "TIME ZONE CONVERSION 2024-09-06 11:36:51",
   "widgets": {}
  }
 },
 "nbformat": 4,
 "nbformat_minor": 0
}
